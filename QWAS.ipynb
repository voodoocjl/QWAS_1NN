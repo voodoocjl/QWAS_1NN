{
 "cells": [
  {
   "cell_type": "code",
   "execution_count": null,
   "metadata": {},
   "outputs": [],
   "source": [
    "from draw import plot_2d_array\n",
    "from Arguments import Arguments\n",
    "\n",
    "task = 'FASHION'\n",
    "if task != 'MOSI':\n",
    "    from QWAS_MNIST import *\n",
    "    arch_code = [4, 4]  \n",
    "else:\n",
    "    from QWAS_MOSI import *\n",
    "    arch_code = [7, 5]"
   ]
  },
  {
   "cell_type": "code",
   "execution_count": null,
   "metadata": {},
   "outputs": [],
   "source": [
    "# set random seed\n",
    "random.seed(42)\n",
    "np.random.seed(42)\n",
    "torch.random.manual_seed(42)\n",
    "mp.set_start_method('spawn')\n",
    "arg = Arguments()"
   ]
  },
  {
   "cell_type": "code",
   "execution_count": null,
   "metadata": {},
   "outputs": [],
   "source": [
    "# SuperBase\n",
    "single = [[i]+[1]*8 for i in range(1,5)]\n",
    "enta = [[i]+[i+1]*4 for i in range(1,4)]+[[4]+[1]*4]"
   ]
  },
  {
   "cell_type": "code",
   "execution_count": null,
   "metadata": {},
   "outputs": [],
   "source": [
    "# Random\n",
    "\n",
    "# empty = empty_arch(4, 4)\n",
    "# single = random.sample(search_space_single, 2)\n",
    "# enta = random.sample(search_space_enta, 2)\n",
    "# single = agent.insert_job(empty[0], single)\n",
    "# enta = agent.insert_job(empty[1], enta)"
   ]
  },
  {
   "cell_type": "code",
   "execution_count": null,
   "metadata": {},
   "outputs": [],
   "source": [
    "check_file(task)\n",
    "arch = cir_to_matrix(single, enta, arch_code)\n",
    "plot_2d_array(arch)"
   ]
  },
  {
   "cell_type": "code",
   "execution_count": null,
   "metadata": {},
   "outputs": [],
   "source": [
    "agent = create_agent(task, arch_code)\n",
    "# agent.explorations['rate'] = arg.exploration\n",
    "ITERATION = agent.ITERATION\n",
    "num_processes = 5 "
   ]
  },
  {
   "cell_type": "code",
   "execution_count": null,
   "metadata": {},
   "outputs": [],
   "source": [
    "for iter in range(ITERATION, 55):\n",
    "        jobs, designs, archs, nodes = agent.early_search(iter)\n",
    "        results = {}\n",
    "        n_jobs = len(jobs)\n",
    "        step = n_jobs // num_processes\n",
    "        res = n_jobs % num_processes\n",
    "        if task != 'MOSI':\n",
    "            with Manager() as manager:\n",
    "                q = manager.Queue()\n",
    "                with mp.Pool(processes = num_processes) as pool:        \n",
    "                    pool.starmap(Scheme_mp, [(designs[i*step : (i+1)*step], task, agent.weight, i, q) for i in range(num_processes)])            \n",
    "                    pool.starmap(Scheme_mp, [(designs[n_jobs-i-1 : n_jobs-i], task, agent.weight, n_jobs-i-1, q) for i in range(res)])\n",
    "                while not q.empty():\n",
    "                    [i, acc] = q.get()\n",
    "                    results[i] = acc\n",
    "        else:\n",
    "            for i in range(n_jobs):\n",
    "                _, report = Scheme(designs[i], task, agent.weight, 3, verbs=1)\n",
    "                results[i] = report['mae']\n",
    "\n",
    "        agent.late_search(jobs, results, archs, nodes)\n",
    "\n",
    "print('The best model: ', agent.best['acc'])\n",
    "plot_2d_array(agent.best['model'])"
   ]
  }
 ],
 "metadata": {
  "kernelspec": {
   "display_name": "torchquantum",
   "language": "python",
   "name": "python3"
  },
  "language_info": {
   "codemirror_mode": {
    "name": "ipython",
    "version": 3
   },
   "file_extension": ".py",
   "mimetype": "text/x-python",
   "name": "python",
   "nbconvert_exporter": "python",
   "pygments_lexer": "ipython3",
   "version": "3.9.18"
  }
 },
 "nbformat": 4,
 "nbformat_minor": 2
}
